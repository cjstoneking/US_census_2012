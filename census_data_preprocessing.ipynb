{
 "cells": [
  {
   "cell_type": "code",
   "execution_count": 102,
   "metadata": {},
   "outputs": [],
   "source": [
    "import pandas as pd\n",
    "import numpy as np"
   ]
  },
  {
   "cell_type": "code",
   "execution_count": 103,
   "metadata": {},
   "outputs": [],
   "source": [
    "df = pd.read_csv(\"31_Loc_state/ECN_2012_US_31SA1_with_ann.csv\")"
   ]
  },
  {
   "cell_type": "code",
   "execution_count": 104,
   "metadata": {},
   "outputs": [
    {
     "name": "stdout",
     "output_type": "stream",
     "text": [
      "                       GEO.id GEO.id2     GEO.display-label         NAICS.id  \\\n",
      "0  Geographic identifier code     Id2  Geographic area name  2012 NAICS code   \n",
      "1                 0400000US01      01               Alabama            31-33   \n",
      "2                 0400000US01      01               Alabama            31-33   \n",
      "3                 0400000US01      01               Alabama            31-33   \n",
      "\n",
      "          NAICS.display-label                         EMPSZES.id  \\\n",
      "0  Meaning of 2012 NAICS code  Employment size of establishments   \n",
      "1               Manufacturing                                001   \n",
      "2               Manufacturing                                219   \n",
      "3               Manufacturing                                220   \n",
      "\n",
      "                          EMPSZES.display-label YEAR.id  \\\n",
      "0  Meaning of Employment size of establishments    Year   \n",
      "1                            All establishments    2012   \n",
      "2          Establishments with 0 to 4 employees    2012   \n",
      "3          Establishments with 5 to 9 employees    2012   \n",
      "\n",
      "                      ESTAB  \n",
      "0  Number of establishments  \n",
      "1                      4286  \n",
      "2                      1695  \n",
      "3                       534  \n"
     ]
    }
   ],
   "source": [
    "print(df.iloc[0:4,])"
   ]
  },
  {
   "cell_type": "code",
   "execution_count": 105,
   "metadata": {},
   "outputs": [],
   "source": [
    "#the spreadsheet contains numbers of \"establishments\" (businesses)\n",
    "# in the column ESTAB\n",
    "#these are grouped by: \n",
    "# state (GEO.id2 or GEO.display-label)\n",
    "# area  (NAICS.id or NAICS.display-label)\n",
    "# number of employees (EMPSZES.id or EMPSZES.display-label)"
   ]
  },
  {
   "cell_type": "code",
   "execution_count": 106,
   "metadata": {},
   "outputs": [],
   "source": [
    "#the spreadsheet has a weird structure where the header gives column names,\n",
    "# and then the second row gives additional information, and the third and following are data...\n",
    "#need to get rid of the second row\n",
    "#also get rid of some redundant columns\n"
   ]
  },
  {
   "cell_type": "code",
   "execution_count": 107,
   "metadata": {},
   "outputs": [],
   "source": [
    "df = df.iloc[1:,]\n",
    "df = df.drop(\"GEO.id\", axis=1)\n",
    "df = df.drop(\"GEO.id2\", axis=1)\n",
    "df = df.drop(\"NAICS.id\",axis=1)\n",
    "df = df.drop(\"YEAR.id\", axis=1)\n",
    "df = df.drop(\"EMPSZES.display-label\", axis=1)\n",
    "df = df.rename(columns={\"GEO.display-label\":\"State\",\\\n",
    "                        \"NAICS.display-label\":\"NAICS_Sector\",\\\n",
    "                        \"EMPSZES.id\":\"Size_Code\",\\\n",
    "                        \"ESTAB\":\"N_Establishments\"})"
   ]
  },
  {
   "cell_type": "code",
   "execution_count": 108,
   "metadata": {},
   "outputs": [
    {
     "name": "stdout",
     "output_type": "stream",
     "text": [
      "     State   NAICS_Sector Size_Code N_Establishments\n",
      "1  Alabama  Manufacturing       001             4286\n",
      "2  Alabama  Manufacturing       219             1695\n",
      "3  Alabama  Manufacturing       220              534\n",
      "4  Alabama  Manufacturing       230              559\n"
     ]
    }
   ],
   "source": [
    "print(df.iloc[0:4,])"
   ]
  },
  {
   "cell_type": "code",
   "execution_count": 109,
   "metadata": {},
   "outputs": [],
   "source": [
    "\n",
    "\n",
    "#now estimate number of employees\n",
    "#first map size code to mean number of employees\n",
    "#note that size code is string representation of number, keep as string\n",
    "\n",
    "    \n",
    "get_mean = lambda low,high : (high*(high + 1)/2.0 - (low-1)*low/2.0)/(high-low + 1)\n",
    "    \n",
    "size_code_to_mean_employee_number ={\\\n",
    "            \"001\":0,\\\n",
    "            \"219\":get_mean(0,4),\\\n",
    "            \"220\":get_mean(5,9),\\\n",
    "            \"230\":get_mean(10,19),\\\n",
    "            \"241\":get_mean(20,49),\\\n",
    "            \"242\":get_mean(50,99),\\\n",
    "            \"251\":get_mean(100,249),\\\n",
    "            \"252\":get_mean(250,499),\\\n",
    "            \"254\":get_mean(500,999),\\\n",
    "            \"261\":get_mean(1000,2499),\\\n",
    "            \"270\":2500\n",
    "            }\n",
    "    \n"
   ]
  },
  {
   "cell_type": "code",
   "execution_count": 110,
   "metadata": {},
   "outputs": [],
   "source": [
    "df[\"N_Employees\"] = df[\"N_Establishments\"].astype(\"float\")*df[\"Size_Code\"].map(size_code_to_mean_employee_number)\n",
    "\n",
    "\n",
    "df.loc[np.logical_not(df[\"Size_Code\"]==\"001\"),\"N_Establishments\"] = 0\n",
    "#set things up so that the groupby sum will give the correct number of establishments\n",
    "#by getting rid of all counts except for total count"
   ]
  },
  {
   "cell_type": "code",
   "execution_count": 111,
   "metadata": {},
   "outputs": [
    {
     "name": "stdout",
     "output_type": "stream",
     "text": [
      "      State   NAICS_Sector Size_Code N_Establishments  N_Employees\n",
      "1   Alabama  Manufacturing       001             4286          0.0\n",
      "2   Alabama  Manufacturing       219                0       3390.0\n",
      "3   Alabama  Manufacturing       220                0       3738.0\n",
      "4   Alabama  Manufacturing       230                0       8105.5\n",
      "5   Alabama  Manufacturing       241                0      21045.0\n",
      "6   Alabama  Manufacturing       242                0      26373.0\n",
      "7   Alabama  Manufacturing       251                0      57236.0\n",
      "8   Alabama  Manufacturing       252                0      44940.0\n",
      "9   Alabama  Manufacturing       254                0      48717.5\n",
      "10  Alabama  Manufacturing       261                0      29741.5\n"
     ]
    }
   ],
   "source": [
    "print(df.iloc[0:10,])"
   ]
  },
  {
   "cell_type": "code",
   "execution_count": 118,
   "metadata": {},
   "outputs": [],
   "source": [
    "df = df.drop(\"Size_Code\", axis=1)\n",
    "df[\"N_Establishments\"] = df[\"N_Establishments\"].astype(\"float\")\n",
    "#set type from object to float, so groupby().sum() will compute sum"
   ]
  },
  {
   "cell_type": "code",
   "execution_count": 119,
   "metadata": {},
   "outputs": [],
   "source": [
    "#now we just need to sum grouped by state and NAICS sector\n",
    "#and we will have the total number of establishments\n",
    "#and the estimated total number of employees\n",
    "\n",
    "df_sum = df.groupby(by=[\"State\",\"NAICS_Sector\"], axis=0,sort=False).sum().reset_index()"
   ]
  },
  {
   "cell_type": "code",
   "execution_count": 120,
   "metadata": {},
   "outputs": [
    {
     "name": "stdout",
     "output_type": "stream",
     "text": [
      "     State                     NAICS_Sector  N_Establishments  N_Employees\n",
      "0  Alabama                    Manufacturing            4286.0     253286.5\n",
      "1  Alabama               Food manufacturing             263.0      35983.5\n",
      "2  Alabama   Dog and cat food manufacturing               4.0        525.5\n",
      "3  Alabama  Other animal food manufacturing              31.0        794.5\n"
     ]
    }
   ],
   "source": [
    "print(df_sum.iloc[0:4,])"
   ]
  },
  {
   "cell_type": "code",
   "execution_count": 121,
   "metadata": {},
   "outputs": [],
   "source": [
    "df_sum.to_csv(\"US_Census_2012_business_by_state.csv\")"
   ]
  },
  {
   "cell_type": "code",
   "execution_count": null,
   "metadata": {},
   "outputs": [],
   "source": []
  }
 ],
 "metadata": {
  "hide_input": false,
  "kernelspec": {
   "display_name": "Python 3",
   "language": "python",
   "name": "python3"
  },
  "language_info": {
   "codemirror_mode": {
    "name": "ipython",
    "version": 3
   },
   "file_extension": ".py",
   "mimetype": "text/x-python",
   "name": "python",
   "nbconvert_exporter": "python",
   "pygments_lexer": "ipython3",
   "version": "3.7.0"
  }
 },
 "nbformat": 4,
 "nbformat_minor": 2
}
